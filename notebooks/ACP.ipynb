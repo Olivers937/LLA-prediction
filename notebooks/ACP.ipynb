{
 "cells": [
  {
   "cell_type": "code",
   "id": "0690b9e4-c27d-4e07-a058-7c4635894f81",
   "metadata": {
    "ExecuteTime": {
     "end_time": "2024-12-31T05:51:15.238459Z",
     "start_time": "2024-12-31T05:51:14.344708Z"
    }
   },
   "source": [
    "import pandas as pd\n",
    "from sklearn.preprocessing import StandardScaler\n",
    "from sklearn.decomposition import PCA\n",
    "from math import sqrt\n",
    "\n",
    "class ACPClass:\n",
    "    def __init__(self):\n",
    "        self.pca = PCA()\n",
    "        self.n_components = 0\n",
    "        self.principalDf = None\n",
    "        self.explained_variance_ratio_ = None\n",
    "\n",
    "    def fit(self, datas):\n",
    "        self.datas = datas\n",
    "        try:\n",
    "            self.X = StandardScaler(with_mean=True, with_std=True).fit_transform(self.datas.drop(columns=self.datas.columns[-1]))\n",
    "            self.Y = self.datas[self.datas.columns[-1]]\n",
    "        except (KeyError, TypeError, AttributeError) as e:\n",
    "            raise type(e)(f\"Erreur lors du traitement des données : {e}\")\n",
    "\n",
    "        principalComponent = self.pca.fit_transform(self.X)\n",
    "        self.explained_variance_ratio_ = self.pca.explained_variance_ratio_\n",
    "        e = 0.9\n",
    "        s = 0\n",
    "        sm = sum(self.explained_variance_ratio_)\n",
    "\n",
    "        for i, k in enumerate(self.explained_variance_ratio_):\n",
    "            s += k\n",
    "            r = s / sm\n",
    "            if r >= e:\n",
    "                self.n_components = i + 1\n",
    "                break\n",
    "\n",
    "        if self.n_components == 0:\n",
    "            try:\n",
    "                self.n_components = int(1 + 2 * sqrt(float(len(self.X) - 1) / (len(self.Y) - 1)))\n",
    "            except ZeroDivisionError:\n",
    "                self.n_components = len(self.X[0])\n",
    "            \n",
    "        col = [f\"principal component {i}\" for i in range(1, self.n_components + 1)]\n",
    "        principalDf = pd.DataFrame(data=principalComponent[:, :self.n_components], columns=col)\n",
    "        self.principalDf = pd.concat([principalDf, self.Y], axis=1)\n",
    "        return self.principalDf"
   ],
   "outputs": [],
   "execution_count": 1
  }
 ],
 "metadata": {
  "kernelspec": {
   "display_name": "Python 3 (ipykernel)",
   "language": "python",
   "name": "python3"
  },
  "language_info": {
   "codemirror_mode": {
    "name": "ipython",
    "version": 3
   },
   "file_extension": ".py",
   "mimetype": "text/x-python",
   "name": "python",
   "nbconvert_exporter": "python",
   "pygments_lexer": "ipython3",
   "version": "3.10.12"
  }
 },
 "nbformat": 4,
 "nbformat_minor": 5
}
